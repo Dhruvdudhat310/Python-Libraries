{
 "cells": [
  {
   "cell_type": "markdown",
   "id": "b4ab8408",
   "metadata": {},
   "source": [
    "# Numpy"
   ]
  },
  {
   "cell_type": "markdown",
   "id": "8d2d78dd",
   "metadata": {},
   "source": [
    "(1) Faster than list \n",
    "\n",
    "(2) Less Memory\n",
    "\n",
    "(3) Easy Maths operations\n",
    "\n",
    "(4) Used in AI, DS, DA"
   ]
  },
  {
   "cell_type": "code",
   "execution_count": 19,
   "id": "530cabb0",
   "metadata": {
    "scrolled": true
   },
   "outputs": [
    {
     "name": "stdout",
     "output_type": "stream",
     "text": [
      "[1, 2, 3, 4, 5]\n",
      "[1 2 3 4 5]\n"
     ]
    }
   ],
   "source": [
    "python_list = [1,2,3,4,5]\n",
    "print(python_list)                      # print with comma \n",
    "\n",
    "import numpy as np\n",
    "numpy_array = np.array([1,2,3,4,5])\n",
    "print(numpy_array)                      # print without comma"
   ]
  },
  {
   "cell_type": "code",
   "execution_count": 22,
   "id": "484cf147",
   "metadata": {},
   "outputs": [
    {
     "name": "stdout",
     "output_type": "stream",
     "text": [
      "[10 20 30 40 50]\n"
     ]
    }
   ],
   "source": [
    "# One dimensional array\n",
    "\n",
    "import numpy as np\n",
    "arr_1d = np.array([10,20,30,40,50])\n",
    "\n",
    "print(arr_1d)"
   ]
  },
  {
   "cell_type": "code",
   "execution_count": 23,
   "id": "ffac4275",
   "metadata": {},
   "outputs": [
    {
     "name": "stdout",
     "output_type": "stream",
     "text": [
      "[[1 2 3]\n",
      " [4 5 6]\n",
      " [7 8 9]]\n"
     ]
    }
   ],
   "source": [
    "# Two dimensional array :: [ Matrics = 2D array ]\n",
    "\n",
    "import numpy as np\n",
    "arr_2d = np.array([[1,2,3],\n",
    "                  [4,5,6],\n",
    "                  [7,8,9]])\n",
    "print(arr_2d)"
   ]
  },
  {
   "cell_type": "code",
   "execution_count": 24,
   "id": "ecca7aca",
   "metadata": {},
   "outputs": [
    {
     "name": "stdout",
     "output_type": "stream",
     "text": [
      "[[[10 20 30]\n",
      "  [40 50 60]\n",
      "  [70 80 90]]]\n"
     ]
    }
   ],
   "source": [
    "# Multi dimensional array\n",
    "\n",
    "import numpy as np\n",
    "arr_3d = np.array([[[10,20,30],\n",
    "                   [40,50,60],\n",
    "                   [70,80,90]]])\n",
    "print(arr_3d)"
   ]
  },
  {
   "cell_type": "markdown",
   "id": "a5a7c8e5",
   "metadata": {},
   "source": [
    "### How do we create an array in Numpy?"
   ]
  },
  {
   "cell_type": "markdown",
   "id": "1f0ac8b3",
   "metadata": {},
   "source": [
    "##### Creating numpy Arrays"
   ]
  },
  {
   "cell_type": "code",
   "execution_count": 25,
   "id": "e4b1204c",
   "metadata": {},
   "outputs": [
    {
     "name": "stdout",
     "output_type": "stream",
     "text": [
      "[1 2 3 4]\n"
     ]
    }
   ],
   "source": [
    "# covert list into numpy array\n",
    "\n",
    "import numpy as np\n",
    "arr = np.array([1,2,3,4])\n",
    "print(arr)"
   ]
  },
  {
   "cell_type": "code",
   "execution_count": 27,
   "id": "fcbd3553",
   "metadata": {},
   "outputs": [
    {
     "name": "stdout",
     "output_type": "stream",
     "text": [
      "[0. 0. 0.]\n"
     ]
    }
   ],
   "source": [
    "# creating array with default values\n",
    "# np.zeros(shape) : Use to set default value for future ( set zero )\n",
    "\n",
    "import numpy as np\n",
    "zeros_array = np.zeros(3)\n",
    "\n",
    "print(zeros_array)"
   ]
  },
  {
   "cell_type": "code",
   "execution_count": 28,
   "id": "9d40ecc8",
   "metadata": {},
   "outputs": [
    {
     "name": "stdout",
     "output_type": "stream",
     "text": [
      "[[1. 1. 1.]\n",
      " [1. 1. 1.]]\n"
     ]
    }
   ],
   "source": [
    "# np.ones(shape) : use to set default value for future ( set one )\n",
    "\n",
    "import numpy as np\n",
    "ones_array = np.ones((2,3))\n",
    "\n",
    "print(ones_array)"
   ]
  },
  {
   "cell_type": "code",
   "execution_count": 29,
   "id": "84459a63",
   "metadata": {
    "scrolled": true
   },
   "outputs": [
    {
     "name": "stdout",
     "output_type": "stream",
     "text": [
      "[[7 7]\n",
      " [7 7]]\n"
     ]
    }
   ],
   "source": [
    "# np.full(shape,value) : use to set default value for future ( set entered value )\n",
    "\n",
    "import numpy as np\n",
    "filled_array = np.full((2,2),7)\n",
    "\n",
    "print(filled_array)"
   ]
  },
  {
   "cell_type": "code",
   "execution_count": 30,
   "id": "90136fb0",
   "metadata": {},
   "outputs": [
    {
     "name": "stdout",
     "output_type": "stream",
     "text": [
      "[1 3 5 7 9]\n"
     ]
    }
   ],
   "source": [
    "# creating sequences of array in numpy\n",
    "# arange(start, stop, step) -----> will return numpy array\n",
    "\n",
    "import numpy as np\n",
    "arr = np.arange(1,10,2)\n",
    "\n",
    "print(arr)"
   ]
  },
  {
   "cell_type": "code",
   "execution_count": 31,
   "id": "ae7a3367",
   "metadata": {},
   "outputs": [
    {
     "name": "stdout",
     "output_type": "stream",
     "text": [
      "[[1. 0. 0.]\n",
      " [0. 1. 0.]\n",
      " [0. 0. 1.]]\n"
     ]
    }
   ],
   "source": [
    "# creating identity matrices\n",
    "# eye(shape)\n",
    "\n",
    "import numpy as np\n",
    "identity_matrix = np.eye(3)\n",
    "\n",
    "print(identity_matrix)\n"
   ]
  },
  {
   "cell_type": "markdown",
   "id": "9f175c10",
   "metadata": {},
   "source": [
    "### Which array properties can we check, and how do we perform basic operations?"
   ]
  },
  {
   "cell_type": "markdown",
   "id": "bdfbd795",
   "metadata": {},
   "source": [
    "##### Array Properties & Operations"
   ]
  },
  {
   "cell_type": "code",
   "execution_count": 32,
   "id": "dc7d7d57",
   "metadata": {},
   "outputs": [],
   "source": [
    "#Cheacking in Array"
   ]
  },
  {
   "cell_type": "code",
   "execution_count": 2,
   "id": "cfc6d2c3",
   "metadata": {},
   "outputs": [
    {
     "name": "stdout",
     "output_type": "stream",
     "text": [
      "(2, 3)\n"
     ]
    }
   ],
   "source": [
    "# Shape : Give rows and columns\n",
    "\n",
    "import numpy as np\n",
    "arr_2d = np.array([[1,2,3],\n",
    "                   [4,5,6]])\n",
    "\n",
    "print(arr_2d.shape)"
   ]
  },
  {
   "cell_type": "code",
   "execution_count": 33,
   "id": "593c479b",
   "metadata": {},
   "outputs": [
    {
     "name": "stdout",
     "output_type": "stream",
     "text": [
      "6\n"
     ]
    }
   ],
   "source": [
    "# Size : will return total number of elements in array\n",
    "\n",
    "import numpy as np\n",
    "arr = np.array([[10,20,30], \n",
    "                [40,50,60]])\n",
    "\n",
    "print(arr.size)"
   ]
  },
  {
   "cell_type": "code",
   "execution_count": 34,
   "id": "bb5d466e",
   "metadata": {},
   "outputs": [
    {
     "name": "stdout",
     "output_type": "stream",
     "text": [
      "1\n",
      "2\n",
      "3\n"
     ]
    }
   ],
   "source": [
    "# ndim : will return number of dimensions \n",
    "\n",
    "import numpy as np\n",
    "arr_1d = np.array([1,2,3])\n",
    "arr_2d = np.array([[1,2,3],[4,5,6]])\n",
    "arr_3d = np.array([[[1,2],[3,4],[5,6],[7,8]]])\n",
    "\n",
    "print(arr_1d.ndim)\n",
    "print(arr_2d.ndim)\n",
    "print(arr_3d.ndim)"
   ]
  },
  {
   "cell_type": "code",
   "execution_count": 35,
   "id": "568ae8fb",
   "metadata": {},
   "outputs": [
    {
     "name": "stdout",
     "output_type": "stream",
     "text": [
      "float64\n"
     ]
    }
   ],
   "source": [
    "# dtype : Data type of elements (ex : int, str, float)\n",
    "\n",
    "import numpy as np\n",
    "arr = np.array([10,20,30.5,40])\n",
    "\n",
    "print(arr.dtype)"
   ]
  },
  {
   "cell_type": "code",
   "execution_count": 36,
   "id": "cff3c834",
   "metadata": {},
   "outputs": [],
   "source": [
    "# Changing in Array"
   ]
  },
  {
   "cell_type": "code",
   "execution_count": 37,
   "id": "ff8a1db0",
   "metadata": {},
   "outputs": [
    {
     "name": "stdout",
     "output_type": "stream",
     "text": [
      "Before Changing : float64\n",
      "int_array : [1 2 3]\n",
      "After chaning : int32\n"
     ]
    }
   ],
   "source": [
    "# astype(new.type) : To change the datatype of elements (ex : age='100'[str] to age=100[int])\n",
    "\n",
    "import numpy as np\n",
    "arr = np.array([1.2,2.5,3.8])\n",
    "print(f\"Before Changing : {arr.dtype}\")\n",
    "\n",
    "int_arr = arr.astype(int)\n",
    "\n",
    "print(f\"int_array : {int_arr}\")\n",
    "print(f\"After chaning : {int_arr.dtype}\")"
   ]
  },
  {
   "cell_type": "markdown",
   "id": "c69abbb5",
   "metadata": {},
   "source": [
    "##### Mathematical Operations in numpy array : Fast execution array without loops"
   ]
  },
  {
   "cell_type": "code",
   "execution_count": 38,
   "id": "5a88ffe0",
   "metadata": {},
   "outputs": [
    {
     "name": "stdout",
     "output_type": "stream",
     "text": [
      "[15 25 35]\n",
      "[20 40 60]\n",
      "[100 400 900]\n"
     ]
    }
   ],
   "source": [
    "import numpy as np\n",
    "arr = np.array([10,20,30])\n",
    "\n",
    "print(arr + 5)\n",
    "print(arr * 2)\n",
    "print(arr ** 2)"
   ]
  },
  {
   "cell_type": "code",
   "execution_count": 39,
   "id": "99f5de61",
   "metadata": {},
   "outputs": [
    {
     "name": "stdout",
     "output_type": "stream",
     "text": [
      "Sum : 150\n",
      "Mean : 30.0\n",
      "Min : 10\n",
      "Max : 50\n",
      "Standard Deviation : 14.142135623730951\n",
      "Variance : 200.0\n"
     ]
    }
   ],
   "source": [
    "# Aggregation functions (summarise data)\n",
    "\n",
    "import numpy as np\n",
    "arr = np.array([10,20,30,40,50])\n",
    "\n",
    "print(f\"Sum : {np.sum(arr)}\")\n",
    "print(f\"Mean : {np.mean(arr)}\")\n",
    "print(f\"Min : {np.min(arr)}\")\n",
    "print(f\"Max : {max(arr)}\")\n",
    "print(f\"Standard Deviation : {np.std(arr)}\")\n",
    "print(f\"Variance : {np.var(arr)}\")"
   ]
  },
  {
   "cell_type": "markdown",
   "id": "edd90307",
   "metadata": {},
   "source": [
    "### How do we index and slice arrays to access specific elements or ranges?"
   ]
  },
  {
   "cell_type": "markdown",
   "id": "cbdc45d5",
   "metadata": {},
   "source": [
    "##### Indexing & Slicing Arrays"
   ]
  },
  {
   "cell_type": "code",
   "execution_count": 42,
   "id": "de7978f4",
   "metadata": {},
   "outputs": [],
   "source": [
    "# Indexing"
   ]
  },
  {
   "cell_type": "code",
   "execution_count": 40,
   "id": "be08a8aa",
   "metadata": {},
   "outputs": [
    {
     "name": "stdout",
     "output_type": "stream",
     "text": [
      "10\n",
      "30\n",
      "50\n"
     ]
    },
    {
     "ename": "IndexError",
     "evalue": "index 10 is out of bounds for axis 0 with size 5",
     "output_type": "error",
     "traceback": [
      "\u001b[1;31m---------------------------------------------------------------------------\u001b[0m",
      "\u001b[1;31mIndexError\u001b[0m                                Traceback (most recent call last)",
      "Cell \u001b[1;32mIn[40], line 13\u001b[0m\n\u001b[0;32m     10\u001b[0m \u001b[38;5;28mprint\u001b[39m(arr[\u001b[38;5;241m2\u001b[39m])                    \u001b[38;5;66;03m# Third element\u001b[39;00m\n\u001b[0;32m     11\u001b[0m \u001b[38;5;28mprint\u001b[39m(arr[\u001b[38;5;241m-\u001b[39m\u001b[38;5;241m1\u001b[39m])                   \u001b[38;5;66;03m# Last element\u001b[39;00m\n\u001b[1;32m---> 13\u001b[0m \u001b[38;5;28mprint\u001b[39m(arr[\u001b[38;5;241m10\u001b[39m])\n",
      "\u001b[1;31mIndexError\u001b[0m: index 10 is out of bounds for axis 0 with size 5"
     ]
    }
   ],
   "source": [
    "\"\"\"\n",
    "array[index] #1d Array\n",
    "array[row, column] #2d Array\n",
    "\"\"\"\n",
    "\n",
    "import numpy as np\n",
    "arr = np.array([10,20,30,40,50])\n",
    "\n",
    "print(arr[0])                    # First element\n",
    "print(arr[2])                    # Third element\n",
    "print(arr[-1])                   # Last element\n",
    "\n",
    "print(arr[10])                   # index error"
   ]
  },
  {
   "cell_type": "code",
   "execution_count": 41,
   "id": "e49ae794",
   "metadata": {},
   "outputs": [],
   "source": [
    "# Slicing"
   ]
  },
  {
   "cell_type": "code",
   "execution_count": 44,
   "id": "3963a352",
   "metadata": {},
   "outputs": [
    {
     "data": {
      "text/plain": [
       "'\\narray[start : stop : step]    -----> (start) to (end -1) with (step)\\narray[start : stop]           -----> (start) to (end -1) with (default step 1)\\narray[stop]                   -----> (default start 0) to (end -1) (default step 1)\\nnegative step (-1) : print revirse\\n'"
      ]
     },
     "execution_count": 44,
     "metadata": {},
     "output_type": "execute_result"
    }
   ],
   "source": [
    "\"\"\"\n",
    "array[start : stop : step]    -----> (start) to (end -1) with (step)\n",
    "array[start : stop]           -----> (start) to (end -1) with (default step 1)\n",
    "array[stop]                   -----> (default start 0) to (end -1) (default step 1)\n",
    "negative step (-1) : print revirse\n",
    "\"\"\""
   ]
  },
  {
   "cell_type": "code",
   "execution_count": 45,
   "id": "7ce9d6ae",
   "metadata": {},
   "outputs": [
    {
     "name": "stdout",
     "output_type": "stream",
     "text": [
      "[20 30 40 50]\n",
      "[10 20 30 40]\n",
      "[10 30 50]\n",
      "[60 50 40 30 20 10]\n"
     ]
    }
   ],
   "source": [
    "import numpy as np\n",
    "arr = np.array([10,20,30,40,50,60])\n",
    "\n",
    "print(arr[1:5])     # index 1 to 4\n",
    "print(arr[ :4])     # index 0 to 3\n",
    "print(arr[ : :2])   # every second element\n",
    "print(arr[ : :-1])  # revirse array"
   ]
  },
  {
   "cell_type": "code",
   "execution_count": 46,
   "id": "9a58bf11",
   "metadata": {},
   "outputs": [],
   "source": [
    "# fancy indexing : selecting multiple elements at ones : don't change orignal array"
   ]
  },
  {
   "cell_type": "code",
   "execution_count": 47,
   "id": "8e063cb9",
   "metadata": {},
   "outputs": [
    {
     "name": "stdout",
     "output_type": "stream",
     "text": [
      "[10 30 50]\n"
     ]
    }
   ],
   "source": [
    "import numpy as np\n",
    "arr = np.array([10,20,30,40,50,60])\n",
    "\n",
    "print(arr[[0,2,4]])    # 10 30 50"
   ]
  },
  {
   "cell_type": "code",
   "execution_count": 49,
   "id": "e0c430d5",
   "metadata": {},
   "outputs": [
    {
     "name": "stdout",
     "output_type": "stream",
     "text": [
      "[30 40 50 60]\n"
     ]
    }
   ],
   "source": [
    "import numpy as np\n",
    "arr = np.array([10,20,30,40,50,60])\n",
    "\n",
    "print(arr[arr > 25])   # follow condition"
   ]
  },
  {
   "cell_type": "markdown",
   "id": "0672730d",
   "metadata": {},
   "source": [
    "### How can we reshape and manipulation arrays for different data needs?"
   ]
  },
  {
   "cell_type": "markdown",
   "id": "4c68e23d",
   "metadata": {},
   "source": [
    "##### Reshaping & Manipulation"
   ]
  },
  {
   "cell_type": "code",
   "execution_count": 1,
   "id": "7cd746c6",
   "metadata": {},
   "outputs": [],
   "source": [
    "# Reshaping"
   ]
  },
  {
   "cell_type": "code",
   "execution_count": 2,
   "id": "a71c349d",
   "metadata": {},
   "outputs": [
    {
     "data": {
      "text/plain": [
       "'\\nReshaping : change the dimensions without changing the data \\nreshape(rows, columns) specify new shape\\nit reshapes if dimensions match \\n'"
      ]
     },
     "execution_count": 2,
     "metadata": {},
     "output_type": "execute_result"
    }
   ],
   "source": [
    "\"\"\"\n",
    "Reshaping : change the dimensions without changing the data \n",
    "reshape(rows, columns) specify new shape\n",
    "it reshapes if dimensions match \n",
    "\"\"\""
   ]
  },
  {
   "cell_type": "code",
   "execution_count": 6,
   "id": "f4a1587b",
   "metadata": {},
   "outputs": [
    {
     "name": "stdout",
     "output_type": "stream",
     "text": [
      "[[1 2 3]\n",
      " [4 5 6]]\n"
     ]
    }
   ],
   "source": [
    "# Use to convert 1d Arry to multi-dimensional array\n",
    "# Reshaping does not create a copy, it returns view\n",
    "\n",
    "import numpy as np\n",
    "arr = np.array([1,2,3,4,5,6])\n",
    "\n",
    "reshaped_arr = arr.reshape(2,3)\n",
    "\n",
    "print(reshaped_arr)             # changing in a reshaped array afftects the arr"
   ]
  },
  {
   "cell_type": "code",
   "execution_count": 7,
   "id": "33f5e4d5",
   "metadata": {},
   "outputs": [],
   "source": [
    "# flattening"
   ]
  },
  {
   "cell_type": "code",
   "execution_count": 8,
   "id": "cf4c02d8",
   "metadata": {},
   "outputs": [
    {
     "data": {
      "text/plain": [
       "'\\n# Use to convert multi-dimensional array to 1d Array\\n.ravel() --> views (affect the original array)\\n.flatten() --> copy (does not affect the original)\\n'"
      ]
     },
     "execution_count": 8,
     "metadata": {},
     "output_type": "execute_result"
    }
   ],
   "source": [
    "\"\"\"\n",
    "# Use to convert multi-dimensional array to 1d Array\n",
    ".ravel() --> views (affect the original array)\n",
    ".flatten() --> copy (does not affect the original)\n",
    "\"\"\" "
   ]
  },
  {
   "cell_type": "code",
   "execution_count": 9,
   "id": "b495623b",
   "metadata": {},
   "outputs": [
    {
     "name": "stdout",
     "output_type": "stream",
     "text": [
      "[1 2 3 4 5 6]\n",
      "[1 2 3 4 5 6]\n"
     ]
    }
   ],
   "source": [
    "import numpy as np\n",
    "arr_2d = np.array([[1,2,3],\n",
    "                  [4,5,6]])\n",
    "\n",
    "print(arr_2d.ravel())\n",
    "print(arr_2d.flatten())"
   ]
  },
  {
   "cell_type": "markdown",
   "id": "81fc6354",
   "metadata": {},
   "source": [
    "### What methods are available for modifying arrays (inserting, appending, deleting)?"
   ]
  },
  {
   "cell_type": "markdown",
   "id": "856c9a7d",
   "metadata": {},
   "source": [
    "##### Array Modification"
   ]
  },
  {
   "cell_type": "code",
   "execution_count": 21,
   "id": "4b4fb945",
   "metadata": {},
   "outputs": [],
   "source": [
    "# Inserting Elements"
   ]
  },
  {
   "cell_type": "code",
   "execution_count": 10,
   "id": "652e5143",
   "metadata": {},
   "outputs": [
    {
     "data": {
      "text/plain": [
       "'\\nnp.insert(array, index, value, axis=None)\\narray = original array\\nindex = position where you want to insert value \\nvalue = value that you want to insert \\naxis = None (Flatten array) 1d Array\\naxis = 0 (row-wise)\\naxis = 1 (column-wise)\\n'"
      ]
     },
     "execution_count": 10,
     "metadata": {},
     "output_type": "execute_result"
    }
   ],
   "source": [
    "\"\"\"\n",
    "np.insert(array, index, value, axis=None)\n",
    "\n",
    "array = original array\n",
    "index = position where you want to insert value \n",
    "value = value that you want to insert \n",
    "axis = None (Flatten array) 1d Array\n",
    "axis = 0 (row-wise) Default row-wise\n",
    "axis = 1 (column-wise)\n",
    "\"\"\""
   ]
  },
  {
   "cell_type": "code",
   "execution_count": 12,
   "id": "3836c40d",
   "metadata": {},
   "outputs": [
    {
     "name": "stdout",
     "output_type": "stream",
     "text": [
      "Befor inserting : [10 20 30 40 50 60]\n",
      "After inserting : [ 10  20 100  30  40  50  60]\n"
     ]
    }
   ],
   "source": [
    "# Insert in 1d array\n",
    "\n",
    "import numpy as np\n",
    "arr = np.array([10,20,30,40,50,60])\n",
    "print(f\"Befor inserting : {arr}\")\n",
    "\n",
    "new_arr = np.insert(arr, 2, 100, axis=0)\n",
    "\n",
    "print(f\"After inserting : {new_arr}\")"
   ]
  },
  {
   "cell_type": "code",
   "execution_count": 20,
   "id": "aa9f484a",
   "metadata": {},
   "outputs": [
    {
     "name": "stdout",
     "output_type": "stream",
     "text": [
      "Befor inserting :\n",
      "[[1 2]\n",
      " [3 4]]\n",
      "After inserting row-wise :\n",
      "[[1 2]\n",
      " [5 6]\n",
      " [3 4]]\n",
      "After inserting column-wise :\n",
      "[[1 5 2]\n",
      " [3 6 4]]\n",
      "After inserting flatten array :\n",
      "[1 5 6 2 3 4]\n"
     ]
    }
   ],
   "source": [
    "# Insert in 2d array\n",
    "\n",
    "import numpy as np\n",
    "arr_2d = np.array([[1,2],\n",
    "                  [3,4]])\n",
    "print(f\"Befor inserting :\\n{arr_2d}\")\n",
    "\n",
    "# Insert a new row at index 1\n",
    "new_row_arr_2d = np.insert(arr_2d, 1, [5,6], axis=0)\n",
    "print(f\"After inserting row-wise :\\n{new_row_arr_2d}\")\n",
    "\n",
    "# Insert a new column at index 1\n",
    "new_column_arr_2d = np.insert(arr_2d, 1, [5,6], axis=1)\n",
    "print(f\"After inserting column-wise :\\n{new_column_arr_2d}\")\n",
    "\n",
    "# Insert a new flatten data at index 1\n",
    "new_flatten_arr_2d = np.insert(arr_2d, 1, [5,6], axis=None)\n",
    "print(f\"After inserting flatten array :\\n{new_flatten_arr_2d}\")"
   ]
  },
  {
   "cell_type": "code",
   "execution_count": 22,
   "id": "f8cc111c",
   "metadata": {},
   "outputs": [],
   "source": [
    "# Appending Elements"
   ]
  },
  {
   "cell_type": "code",
   "execution_count": 23,
   "id": "2abfdbd0",
   "metadata": {},
   "outputs": [
    {
     "data": {
      "text/plain": [
       "'\\nnp.append(array, value)\\narray = original array \\nvalue = value that you want to insert\\n'"
      ]
     },
     "execution_count": 23,
     "metadata": {},
     "output_type": "execute_result"
    }
   ],
   "source": [
    "\"\"\"\n",
    "np.append(array, value)\n",
    "\n",
    "array = original array \n",
    "value = value that you want to insert\n",
    "\"\"\""
   ]
  },
  {
   "cell_type": "code",
   "execution_count": 24,
   "id": "c2210b17",
   "metadata": {},
   "outputs": [
    {
     "name": "stdout",
     "output_type": "stream",
     "text": [
      "[10 20 30 40 50 60]\n"
     ]
    }
   ],
   "source": [
    "import numpy as np\n",
    "arr = np.array([10,20,30])\n",
    "new_arr = np.append(arr, [40,50,60])\n",
    "\n",
    "print(new_arr)"
   ]
  },
  {
   "cell_type": "code",
   "execution_count": 25,
   "id": "1989c902",
   "metadata": {},
   "outputs": [],
   "source": [
    "# Concatenate 2 arrays"
   ]
  },
  {
   "cell_type": "code",
   "execution_count": 26,
   "id": "c62202ac",
   "metadata": {},
   "outputs": [
    {
     "data": {
      "text/plain": [
       "'\\nnp.concatenate((array1,array2), axis = 0)\\n\\naxis 0 ---> vertical stacking\\naxis 1 ---> horizontal stacking\\n'"
      ]
     },
     "execution_count": 26,
     "metadata": {},
     "output_type": "execute_result"
    }
   ],
   "source": [
    "\"\"\"\n",
    "np.concatenate((array1,array2), axis = 0)\n",
    "\n",
    "vstack() : axis 0 ---> vertical stacking \n",
    "hstack() : axis 1 ---> horizontal stacking\n",
    "\"\"\""
   ]
  },
  {
   "cell_type": "code",
   "execution_count": 27,
   "id": "cb605052",
   "metadata": {},
   "outputs": [
    {
     "name": "stdout",
     "output_type": "stream",
     "text": [
      "[1 2 3 4 5 6]\n"
     ]
    }
   ],
   "source": [
    "import numpy as np\n",
    "arr1 = np.array([1,2,3])\n",
    "arr2 = np.array([4,5,6])\n",
    "\n",
    "new_arr1 = np.concatenate((arr1,arr2))\n",
    "print(new_arr1)"
   ]
  },
  {
   "cell_type": "code",
   "execution_count": 30,
   "id": "ced3fd44",
   "metadata": {},
   "outputs": [
    {
     "name": "stdout",
     "output_type": "stream",
     "text": [
      "[[1 1 3 3]\n",
      " [2 2 4 4]]\n",
      "[[1 1 3 3]\n",
      " [2 2 4 4]]\n"
     ]
    }
   ],
   "source": [
    "# Stacking Along Rows = hstack()\n",
    "# number of column must be same \n",
    "import numpy as np\n",
    "\n",
    "arr1 = np.array([[1, 1], \n",
    "                 [2, 2]])\n",
    "\n",
    "arr2 = np.array([[3, 3], \n",
    "                 [4, 4]])\n",
    "\n",
    "new_arr_1 = np.concatenate((arr1, arr2), axis=1)\n",
    "new_arr_2 = np.hstack((arr1,arr2))\n",
    "\n",
    "print(new_arr_1)\n",
    "print(new_arr_2)"
   ]
  },
  {
   "cell_type": "code",
   "execution_count": 31,
   "id": "aee09075",
   "metadata": {},
   "outputs": [
    {
     "name": "stdout",
     "output_type": "stream",
     "text": [
      "[[1 1]\n",
      " [2 2]\n",
      " [3 3]\n",
      " [4 4]]\n",
      "[[1 1]\n",
      " [2 2]\n",
      " [3 3]\n",
      " [4 4]]\n"
     ]
    }
   ],
   "source": [
    "# Stacking Along Columns = vstack()\n",
    "# number of columns must be same\n",
    "import numpy as np\n",
    "\n",
    "arr1 = np.array([[1, 1],\n",
    "                [2, 2]])\n",
    "\n",
    "arr2 = np.array([[3, 3],\n",
    "                [4, 4]])\n",
    "\n",
    "new_arr_1 = np.concatenate((arr1, arr2), axis=0)\n",
    "new_arr_2 = np.vstack((arr1, arr2))\n",
    "\n",
    "print(new_arr_1)\n",
    "print(new_arr_2)"
   ]
  },
  {
   "cell_type": "code",
   "execution_count": 32,
   "id": "34d27cff",
   "metadata": {},
   "outputs": [],
   "source": [
    "# Removing Elements of array"
   ]
  },
  {
   "cell_type": "code",
   "execution_count": 33,
   "id": "067014fa",
   "metadata": {},
   "outputs": [
    {
     "data": {
      "text/plain": [
       "'\\nnp.delete(array, index, axis = None)\\n\\narray = original array\\nindex = position where you want to insert value  \\naxis = None (Flatten array) 1d Array\\n'"
      ]
     },
     "execution_count": 33,
     "metadata": {},
     "output_type": "execute_result"
    }
   ],
   "source": [
    "\"\"\"\n",
    "np.delete(array, index, axis = None)\n",
    "\n",
    "array = original array\n",
    "index = position where you want to insert value  \n",
    "axis = None (Flatten array) 1d Array\n",
    "\"\"\""
   ]
  },
  {
   "cell_type": "code",
   "execution_count": 34,
   "id": "f48e9069",
   "metadata": {},
   "outputs": [
    {
     "name": "stdout",
     "output_type": "stream",
     "text": [
      "Before removing element : [10 20 30 40 50 60]\n",
      "After removing element : [20 30 40 50 60]\n"
     ]
    }
   ],
   "source": [
    "# Removing from 1d array\n",
    "import numpy as np\n",
    "arr = np.array([10,20,30,40,50,60])\n",
    "print(f\"Before removing element : {arr}\")\n",
    "\n",
    "new_arr = np.delete(arr, 0)\n",
    "print(f\"After removing element : {new_arr}\")"
   ]
  },
  {
   "cell_type": "code",
   "execution_count": 35,
   "id": "0e258e88",
   "metadata": {},
   "outputs": [
    {
     "name": "stdout",
     "output_type": "stream",
     "text": [
      "[[4 5 6]]\n"
     ]
    }
   ],
   "source": [
    "# Removing from 2d array\n",
    "import numpy as np\n",
    "arr_2d = np.array([[1,2,3],\n",
    "                  [4,5,6]])\n",
    "\n",
    "new_arr_2d = np.delete(arr_2d, 0, axis = 0)\n",
    "\n",
    "print(new_arr_2d)"
   ]
  },
  {
   "cell_type": "code",
   "execution_count": null,
   "id": "989cd545",
   "metadata": {},
   "outputs": [],
   "source": [
    "# Spliting"
   ]
  },
  {
   "cell_type": "code",
   "execution_count": 36,
   "id": "409a8a3d",
   "metadata": {},
   "outputs": [
    {
     "data": {
      "text/plain": [
       "'\\nnp.split() ---> equal\\nnp.hsplit() ---> horizontally\\nnp.vsplit() ---> vertical \\n'"
      ]
     },
     "execution_count": 36,
     "metadata": {},
     "output_type": "execute_result"
    }
   ],
   "source": [
    "\"\"\"\n",
    "np.split() ---> equal\n",
    "np.hsplit() ---> horizontally\n",
    "np.vsplit() ---> vertical \n",
    "\"\"\""
   ]
  },
  {
   "cell_type": "code",
   "execution_count": 37,
   "id": "65d6e152",
   "metadata": {},
   "outputs": [
    {
     "name": "stdout",
     "output_type": "stream",
     "text": [
      "[array([10, 20, 30]), array([40, 50, 60])]\n"
     ]
    }
   ],
   "source": [
    "import numpy as np\n",
    "arr = np.array([10,20,30,40,50,60])\n",
    "\n",
    "print(np.split(arr, 2))      # 2 is part : here if part is 20 than it gives value error"
   ]
  },
  {
   "cell_type": "markdown",
   "id": "6ffbe90c",
   "metadata": {},
   "source": [
    "### How do broadcasting and vectorization make array operations more efficient?"
   ]
  },
  {
   "cell_type": "markdown",
   "id": "d00b6f22",
   "metadata": {},
   "source": [
    "##### Broadcasting & Vectorisation"
   ]
  },
  {
   "cell_type": "code",
   "execution_count": 38,
   "id": "947112ad",
   "metadata": {},
   "outputs": [],
   "source": [
    "# Without broadcasting (problem) : loops are slow"
   ]
  },
  {
   "cell_type": "code",
   "execution_count": 39,
   "id": "6721abbe",
   "metadata": {},
   "outputs": [
    {
     "name": "stdout",
     "output_type": "stream",
     "text": [
      "[90.0, 180.0, 270.0]\n"
     ]
    }
   ],
   "source": [
    "prices = [100,200,300]\n",
    "\n",
    "discount = 10 #10% discount\n",
    "\n",
    "final_prices = []\n",
    "\n",
    "for price in prices:\n",
    "    final_price = price - (price * discount/100)\n",
    "    final_prices.append(final_price)\n",
    "    \n",
    "print(final_prices)"
   ]
  },
  {
   "cell_type": "code",
   "execution_count": 41,
   "id": "a430874f",
   "metadata": {},
   "outputs": [],
   "source": [
    "# Broadcasting (solution) : without loops : fast"
   ]
  },
  {
   "cell_type": "code",
   "execution_count": 42,
   "id": "93ec9710",
   "metadata": {},
   "outputs": [
    {
     "name": "stdout",
     "output_type": "stream",
     "text": [
      "[ 90. 180. 270.]\n"
     ]
    }
   ],
   "source": [
    "import numpy as np\n",
    "\n",
    "prices = np.array([100,200,300])\n",
    "discount = 10 # scalar single value\n",
    "\n",
    "final_prices = prices - (prices * discount/100)\n",
    "\n",
    "print(final_prices)"
   ]
  },
  {
   "cell_type": "code",
   "execution_count": 43,
   "id": "02f8aad3",
   "metadata": {},
   "outputs": [
    {
     "data": {
      "text/plain": [
       "'\\nBroadcasting 3 rules\\n1) matching dimensions           ( [1,2,3] + [4,5,6] = [5,7,9])\\n2) expanding single element      ( [1,2,3] + 10 = [11,12,13])\\n3) incompatible shapes           ( [1,2,3] + [1,2] = error)\\n'"
      ]
     },
     "execution_count": 43,
     "metadata": {},
     "output_type": "execute_result"
    }
   ],
   "source": [
    "\"\"\"\n",
    "Broadcasting 3 rules\n",
    "1) matching dimensions           ( [1,2,3] + [4,5,6] = [5,7,9])\n",
    "2) expanding single element      ( [1,2,3] + 10 = [11,12,13])\n",
    "3) incompatible shapes           ( [1,2,3] + [1,2] = error)\n",
    "\"\"\""
   ]
  },
  {
   "cell_type": "code",
   "execution_count": 46,
   "id": "176ca0d3",
   "metadata": {},
   "outputs": [
    {
     "name": "stdout",
     "output_type": "stream",
     "text": [
      "[[11 22 33]\n",
      " [14 25 36]]\n"
     ]
    }
   ],
   "source": [
    "# 1) Matching dimensions\n",
    "# 1d to 2d array broadcasting\n",
    "\n",
    "import numpy as np\n",
    "matrix = np.array([[1,2,3],\n",
    "                  [4,5,6]])   # 2x3 matrix\n",
    "\n",
    "vector = np.array([10,20,30])  #1d array\n",
    "\n",
    "result = matrix + vector\n",
    "\n",
    "print(result)"
   ]
  },
  {
   "cell_type": "code",
   "execution_count": 47,
   "id": "d234be79",
   "metadata": {},
   "outputs": [
    {
     "name": "stdout",
     "output_type": "stream",
     "text": [
      "[200 400 600]\n"
     ]
    }
   ],
   "source": [
    "# 2) Expanding single element\n",
    "import numpy as np\n",
    "arr = np.array([100,200,300])\n",
    "\n",
    "result = arr * 2\n",
    "\n",
    "print(result)"
   ]
  },
  {
   "cell_type": "code",
   "execution_count": 48,
   "id": "9903dfb0",
   "metadata": {},
   "outputs": [
    {
     "ename": "ValueError",
     "evalue": "operands could not be broadcast together with shapes (2,3) (2,) ",
     "output_type": "error",
     "traceback": [
      "\u001b[1;31m---------------------------------------------------------------------------\u001b[0m",
      "\u001b[1;31mValueError\u001b[0m                                Traceback (most recent call last)",
      "Cell \u001b[1;32mIn[48], line 9\u001b[0m\n\u001b[0;32m      4\u001b[0m arr1 \u001b[38;5;241m=\u001b[39m np\u001b[38;5;241m.\u001b[39marray([[\u001b[38;5;241m1\u001b[39m,\u001b[38;5;241m2\u001b[39m,\u001b[38;5;241m3\u001b[39m],\n\u001b[0;32m      5\u001b[0m                 [\u001b[38;5;241m4\u001b[39m,\u001b[38;5;241m5\u001b[39m,\u001b[38;5;241m6\u001b[39m]])     \u001b[38;5;66;03m# shape(2,3)\u001b[39;00m\n\u001b[0;32m      7\u001b[0m arr2 \u001b[38;5;241m=\u001b[39m np\u001b[38;5;241m.\u001b[39marray([\u001b[38;5;241m1\u001b[39m,\u001b[38;5;241m2\u001b[39m])        \u001b[38;5;66;03m# shape(2,)  \u001b[39;00m\n\u001b[1;32m----> 9\u001b[0m result \u001b[38;5;241m=\u001b[39m arr1 \u001b[38;5;241m+\u001b[39m arr2\n\u001b[0;32m     11\u001b[0m \u001b[38;5;28mprint\u001b[39m(result)\n",
      "\u001b[1;31mValueError\u001b[0m: operands could not be broadcast together with shapes (2,3) (2,) "
     ]
    }
   ],
   "source": [
    "# 3) Incompatible shapes\n",
    "\n",
    "import numpy as np\n",
    "arr1 = np.array([[1,2,3],\n",
    "                [4,5,6]])     # shape(2,3)\n",
    "\n",
    "arr2 = np.array([1,2])        # shape(2,)  \n",
    "\n",
    "result = arr1 + arr2\n",
    "\n",
    "print(result)                 # Error"
   ]
  },
  {
   "cell_type": "code",
   "execution_count": 49,
   "id": "8dca4c14",
   "metadata": {},
   "outputs": [],
   "source": [
    "# Vectorisation"
   ]
  },
  {
   "cell_type": "code",
   "execution_count": 50,
   "id": "e7f4a544",
   "metadata": {},
   "outputs": [
    {
     "name": "stdout",
     "output_type": "stream",
     "text": [
      "[5, 7, 9]\n"
     ]
    }
   ],
   "source": [
    "# slow in big data\n",
    "list1 = [1,2,3]\n",
    "list2 = [4,5,6]\n",
    "\n",
    "result = [x+y for x,y in zip(list1,list2)]\n",
    "\n",
    "print(result)"
   ]
  },
  {
   "cell_type": "code",
   "execution_count": 52,
   "id": "55a2d35e",
   "metadata": {},
   "outputs": [
    {
     "name": "stdout",
     "output_type": "stream",
     "text": [
      "[5 7 9]\n"
     ]
    }
   ],
   "source": [
    "# Using numpy array : fast\n",
    "import numpy as np\n",
    "arr1 = np.array([1,2,3])\n",
    "arr2 = np.array([4,5,6])\n",
    "\n",
    "result = arr1 + arr2 \n",
    "\n",
    "print(result)"
   ]
  },
  {
   "cell_type": "code",
   "execution_count": 53,
   "id": "383c0238",
   "metadata": {},
   "outputs": [
    {
     "name": "stdout",
     "output_type": "stream",
     "text": [
      "[30 60 90]\n"
     ]
    }
   ],
   "source": [
    "# Apply single value to entire array\n",
    "import numpy as np\n",
    "arr = np.array([10,20,30])\n",
    "\n",
    "multiplied = arr * 3\n",
    "\n",
    "print(multiplied)"
   ]
  },
  {
   "cell_type": "markdown",
   "id": "ed9695a0",
   "metadata": {},
   "source": [
    "### What are some ways to handle missing values in Numpy arrays?"
   ]
  },
  {
   "cell_type": "markdown",
   "id": "a9986b52",
   "metadata": {},
   "source": [
    "##### Handling Missing Values"
   ]
  },
  {
   "cell_type": "code",
   "execution_count": 1,
   "id": "03e6cca8",
   "metadata": {},
   "outputs": [
    {
     "data": {
      "text/plain": [
       "'\\n3 builtin function\\n1) np.isnan    ---> detect missing values (returns boolean values)\\n2) np.nan_to_num()   ---> replace nan values\\n3) np.isinf()  ---> detect infinite values\\n'"
      ]
     },
     "execution_count": 1,
     "metadata": {},
     "output_type": "execute_result"
    }
   ],
   "source": [
    "# NAN : Not a number\n",
    "\"\"\"\n",
    "3 builtin function\n",
    "1) np.isnan    ---> detect missing values (returns boolean values)\n",
    "2) np.nan_to_num()   ---> replace nan values\n",
    "3) np.isinf()  ---> detect infinite values\n",
    "\"\"\""
   ]
  },
  {
   "cell_type": "code",
   "execution_count": 2,
   "id": "61b9e3b3",
   "metadata": {},
   "outputs": [
    {
     "name": "stdout",
     "output_type": "stream",
     "text": [
      "[False False  True False  True False]\n"
     ]
    }
   ],
   "source": [
    "import numpy as np\n",
    "\n",
    "arr = np.array([1, 2, np.nan, 4, np.nan, 6])\n",
    "\n",
    "print(np.isnan(arr))\n",
    "\n",
    "#print(np.nan == np.nan)      # We can't compare Nan value directly"
   ]
  },
  {
   "cell_type": "code",
   "execution_count": 5,
   "id": "b4a15f0a",
   "metadata": {},
   "outputs": [
    {
     "name": "stdout",
     "output_type": "stream",
     "text": [
      "Default valuec : [1. 2. 0. 4. 0. 6.]\n",
      "User entered value : [  1.   2. 100.   4. 100.   6.]\n"
     ]
    }
   ],
   "source": [
    "# np.nan_to_num(array, nan=value) Default = 0\n",
    "\n",
    "import numpy as np\n",
    "\n",
    "arr = np.array([1, 2, np.nan, 4, np.nan, 6])\n",
    "\n",
    "cleaned_arr_0 = np.nan_to_num(arr)\n",
    "print(f\"Default valuec : {cleaned_arr}\")\n",
    "\n",
    "cleaned_arr_100 = np.nan_to_num(arr, nan=100)\n",
    "print(f\"User entered value : {cleaned_arr_100}\")"
   ]
  },
  {
   "cell_type": "code",
   "execution_count": 6,
   "id": "62f053dc",
   "metadata": {},
   "outputs": [
    {
     "name": "stdout",
     "output_type": "stream",
     "text": [
      "[False False  True False  True False]\n"
     ]
    }
   ],
   "source": [
    "# np.isinf() 10^1000        ---> infinite number\n",
    "# one divide by 0 (1/0)     ---> infinite number\n",
    "\n",
    "import numpy as np\n",
    "\n",
    "arr = np.array([1, 2, np.inf, 4, -np.inf, 6])\n",
    "\n",
    "print(np.isinf(arr))"
   ]
  },
  {
   "cell_type": "code",
   "execution_count": 7,
   "id": "ae4aca58",
   "metadata": {},
   "outputs": [
    {
     "name": "stdout",
     "output_type": "stream",
     "text": [
      "[False False  True False  True False]\n",
      "[    1.     2.  1000.     4. -1000.     6.]\n"
     ]
    }
   ],
   "source": [
    "# replace infinite values with finite values\n",
    "\n",
    "import numpy as np\n",
    "\n",
    "arr = np.array([1, 2, np.inf, 4, -np.inf, 6])\n",
    "\n",
    "print(np.isinf(arr))\n",
    "\n",
    "cleaned_arr = np.nan_to_num(arr, posinf=1000, neginf=-1000)\n",
    "\n",
    "print(cleaned_arr)"
   ]
  }
 ],
 "metadata": {
  "kernelspec": {
   "display_name": "Python 3 (ipykernel)",
   "language": "python",
   "name": "python3"
  },
  "language_info": {
   "codemirror_mode": {
    "name": "ipython",
    "version": 3
   },
   "file_extension": ".py",
   "mimetype": "text/x-python",
   "name": "python",
   "nbconvert_exporter": "python",
   "pygments_lexer": "ipython3",
   "version": "3.11.4"
  }
 },
 "nbformat": 4,
 "nbformat_minor": 5
}
